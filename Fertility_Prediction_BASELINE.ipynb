{
  "nbformat": 4,
  "nbformat_minor": 0,
  "metadata": {
    "colab": {
      "name": "Fertility_Prediction_BASELINE.ipynb",
      "provenance": [],
      "mount_file_id": "1vgWg5ZPAzKw6iz0PSurez-2Y_LN50uRS",
      "authorship_tag": "ABX9TyN1Kvjm0K/OBeaMpPB68+kT"
    },
    "kernelspec": {
      "name": "python3",
      "display_name": "Python 3"
    },
    "language_info": {
      "name": "python"
    }
  },
  "cells": [
    {
      "cell_type": "code",
      "metadata": {
        "id": "xOlYjGEAWO7L"
      },
      "source": [
        "import pandas as pd\n",
        "import numpy as np"
      ],
      "execution_count": 1,
      "outputs": []
    },
    {
      "cell_type": "markdown",
      "metadata": {
        "id": "gfiBGmjzZX-1"
      },
      "source": [
        "Attribute Information:\n",
        "\n",
        "Season in which the analysis was performed. 1) winter, 2) spring, 3) Summer, 4) fall. (-1, -0.33, 0.33, 1)\n",
        "\n",
        "Age at the time of analysis. 18-36 (0, 1)\n",
        "\n",
        "Childish diseases (ie , chicken pox, measles, mumps, polio) 1) yes, 2) no. (0, 1)\n",
        "\n",
        "Accident or serious trauma 1) yes, 2) no. (0, 1)\n",
        "\n",
        "Surgical intervention 1) yes, 2) no. (0, 1)\n",
        "\n",
        "High fevers in the last year 1) less than three months ago, 2) more than three months ago, 3) no. (-1, 0, 1)\n",
        "\n",
        "Frequency of alcohol consumption 1) several times a day, 2) every day, 3) several times a week, 4) once a week, 5) hardly ever or never (0, 1)\n",
        "\n",
        "Smoking habit 1) never, 2) occasional 3) daily. (-1, 0, 1)\n",
        "\n",
        "Number of hours spent sitting per day ene-16 (0, 1)\n",
        "\n",
        "Output: Diagnosis normal (N), altered (O)\n",
        "\n"
      ]
    },
    {
      "cell_type": "code",
      "metadata": {
        "colab": {
          "base_uri": "https://localhost:8080/",
          "height": 206
        },
        "id": "Crjf7kRLWXj-",
        "outputId": "9cc08d71-1f99-4eda-8927-c388849f989e"
      },
      "source": [
        "df=pd.read_csv('/content/drive/MyDrive/Datasets/fertility_Diagnosis.txt',sep=\",\",header=None)\n",
        "df.head()"
      ],
      "execution_count": 2,
      "outputs": [
        {
          "output_type": "execute_result",
          "data": {
            "text/html": [
              "<div>\n",
              "<style scoped>\n",
              "    .dataframe tbody tr th:only-of-type {\n",
              "        vertical-align: middle;\n",
              "    }\n",
              "\n",
              "    .dataframe tbody tr th {\n",
              "        vertical-align: top;\n",
              "    }\n",
              "\n",
              "    .dataframe thead th {\n",
              "        text-align: right;\n",
              "    }\n",
              "</style>\n",
              "<table border=\"1\" class=\"dataframe\">\n",
              "  <thead>\n",
              "    <tr style=\"text-align: right;\">\n",
              "      <th></th>\n",
              "      <th>0</th>\n",
              "      <th>1</th>\n",
              "      <th>2</th>\n",
              "      <th>3</th>\n",
              "      <th>4</th>\n",
              "      <th>5</th>\n",
              "      <th>6</th>\n",
              "      <th>7</th>\n",
              "      <th>8</th>\n",
              "      <th>9</th>\n",
              "    </tr>\n",
              "  </thead>\n",
              "  <tbody>\n",
              "    <tr>\n",
              "      <th>0</th>\n",
              "      <td>-0.33</td>\n",
              "      <td>0.69</td>\n",
              "      <td>0</td>\n",
              "      <td>1</td>\n",
              "      <td>1</td>\n",
              "      <td>0</td>\n",
              "      <td>0.8</td>\n",
              "      <td>0</td>\n",
              "      <td>0.88</td>\n",
              "      <td>N</td>\n",
              "    </tr>\n",
              "    <tr>\n",
              "      <th>1</th>\n",
              "      <td>-0.33</td>\n",
              "      <td>0.94</td>\n",
              "      <td>1</td>\n",
              "      <td>0</td>\n",
              "      <td>1</td>\n",
              "      <td>0</td>\n",
              "      <td>0.8</td>\n",
              "      <td>1</td>\n",
              "      <td>0.31</td>\n",
              "      <td>O</td>\n",
              "    </tr>\n",
              "    <tr>\n",
              "      <th>2</th>\n",
              "      <td>-0.33</td>\n",
              "      <td>0.50</td>\n",
              "      <td>1</td>\n",
              "      <td>0</td>\n",
              "      <td>0</td>\n",
              "      <td>0</td>\n",
              "      <td>1.0</td>\n",
              "      <td>-1</td>\n",
              "      <td>0.50</td>\n",
              "      <td>N</td>\n",
              "    </tr>\n",
              "    <tr>\n",
              "      <th>3</th>\n",
              "      <td>-0.33</td>\n",
              "      <td>0.75</td>\n",
              "      <td>0</td>\n",
              "      <td>1</td>\n",
              "      <td>1</td>\n",
              "      <td>0</td>\n",
              "      <td>1.0</td>\n",
              "      <td>-1</td>\n",
              "      <td>0.38</td>\n",
              "      <td>N</td>\n",
              "    </tr>\n",
              "    <tr>\n",
              "      <th>4</th>\n",
              "      <td>-0.33</td>\n",
              "      <td>0.67</td>\n",
              "      <td>1</td>\n",
              "      <td>1</td>\n",
              "      <td>0</td>\n",
              "      <td>0</td>\n",
              "      <td>0.8</td>\n",
              "      <td>-1</td>\n",
              "      <td>0.50</td>\n",
              "      <td>O</td>\n",
              "    </tr>\n",
              "  </tbody>\n",
              "</table>\n",
              "</div>"
            ],
            "text/plain": [
              "      0     1  2  3  4  5    6  7     8  9\n",
              "0 -0.33  0.69  0  1  1  0  0.8  0  0.88  N\n",
              "1 -0.33  0.94  1  0  1  0  0.8  1  0.31  O\n",
              "2 -0.33  0.50  1  0  0  0  1.0 -1  0.50  N\n",
              "3 -0.33  0.75  0  1  1  0  1.0 -1  0.38  N\n",
              "4 -0.33  0.67  1  1  0  0  0.8 -1  0.50  O"
            ]
          },
          "metadata": {},
          "execution_count": 2
        }
      ]
    },
    {
      "cell_type": "code",
      "metadata": {
        "colab": {
          "base_uri": "https://localhost:8080/",
          "height": 206
        },
        "id": "SWtT6taRXc4N",
        "outputId": "8da1f8e3-3955-4953-82b2-48e92097834f"
      },
      "source": [
        "#the dataset is missing the first row of the attribute desc\n",
        "df.columns=['Season','Age','Child_disease','Accident/trauma', 'Surigical_intervention','H_fever','Alchohol','Smoking','Hours spent sitting','Output']\n",
        "df.head()"
      ],
      "execution_count": 3,
      "outputs": [
        {
          "output_type": "execute_result",
          "data": {
            "text/html": [
              "<div>\n",
              "<style scoped>\n",
              "    .dataframe tbody tr th:only-of-type {\n",
              "        vertical-align: middle;\n",
              "    }\n",
              "\n",
              "    .dataframe tbody tr th {\n",
              "        vertical-align: top;\n",
              "    }\n",
              "\n",
              "    .dataframe thead th {\n",
              "        text-align: right;\n",
              "    }\n",
              "</style>\n",
              "<table border=\"1\" class=\"dataframe\">\n",
              "  <thead>\n",
              "    <tr style=\"text-align: right;\">\n",
              "      <th></th>\n",
              "      <th>Season</th>\n",
              "      <th>Age</th>\n",
              "      <th>Child_disease</th>\n",
              "      <th>Accident/trauma</th>\n",
              "      <th>Surigical_intervention</th>\n",
              "      <th>H_fever</th>\n",
              "      <th>Alchohol</th>\n",
              "      <th>Smoking</th>\n",
              "      <th>Hours spent sitting</th>\n",
              "      <th>Output</th>\n",
              "    </tr>\n",
              "  </thead>\n",
              "  <tbody>\n",
              "    <tr>\n",
              "      <th>0</th>\n",
              "      <td>-0.33</td>\n",
              "      <td>0.69</td>\n",
              "      <td>0</td>\n",
              "      <td>1</td>\n",
              "      <td>1</td>\n",
              "      <td>0</td>\n",
              "      <td>0.8</td>\n",
              "      <td>0</td>\n",
              "      <td>0.88</td>\n",
              "      <td>N</td>\n",
              "    </tr>\n",
              "    <tr>\n",
              "      <th>1</th>\n",
              "      <td>-0.33</td>\n",
              "      <td>0.94</td>\n",
              "      <td>1</td>\n",
              "      <td>0</td>\n",
              "      <td>1</td>\n",
              "      <td>0</td>\n",
              "      <td>0.8</td>\n",
              "      <td>1</td>\n",
              "      <td>0.31</td>\n",
              "      <td>O</td>\n",
              "    </tr>\n",
              "    <tr>\n",
              "      <th>2</th>\n",
              "      <td>-0.33</td>\n",
              "      <td>0.50</td>\n",
              "      <td>1</td>\n",
              "      <td>0</td>\n",
              "      <td>0</td>\n",
              "      <td>0</td>\n",
              "      <td>1.0</td>\n",
              "      <td>-1</td>\n",
              "      <td>0.50</td>\n",
              "      <td>N</td>\n",
              "    </tr>\n",
              "    <tr>\n",
              "      <th>3</th>\n",
              "      <td>-0.33</td>\n",
              "      <td>0.75</td>\n",
              "      <td>0</td>\n",
              "      <td>1</td>\n",
              "      <td>1</td>\n",
              "      <td>0</td>\n",
              "      <td>1.0</td>\n",
              "      <td>-1</td>\n",
              "      <td>0.38</td>\n",
              "      <td>N</td>\n",
              "    </tr>\n",
              "    <tr>\n",
              "      <th>4</th>\n",
              "      <td>-0.33</td>\n",
              "      <td>0.67</td>\n",
              "      <td>1</td>\n",
              "      <td>1</td>\n",
              "      <td>0</td>\n",
              "      <td>0</td>\n",
              "      <td>0.8</td>\n",
              "      <td>-1</td>\n",
              "      <td>0.50</td>\n",
              "      <td>O</td>\n",
              "    </tr>\n",
              "  </tbody>\n",
              "</table>\n",
              "</div>"
            ],
            "text/plain": [
              "   Season   Age  Child_disease  ...  Smoking  Hours spent sitting  Output\n",
              "0   -0.33  0.69              0  ...        0                 0.88       N\n",
              "1   -0.33  0.94              1  ...        1                 0.31       O\n",
              "2   -0.33  0.50              1  ...       -1                 0.50       N\n",
              "3   -0.33  0.75              0  ...       -1                 0.38       N\n",
              "4   -0.33  0.67              1  ...       -1                 0.50       O\n",
              "\n",
              "[5 rows x 10 columns]"
            ]
          },
          "metadata": {},
          "execution_count": 3
        }
      ]
    },
    {
      "cell_type": "code",
      "metadata": {
        "colab": {
          "base_uri": "https://localhost:8080/",
          "height": 206
        },
        "id": "mu8ro97IzyjJ",
        "outputId": "c67430f7-450c-4205-8ac3-c25fcb57c685"
      },
      "source": [
        "df.tail()"
      ],
      "execution_count": 4,
      "outputs": [
        {
          "output_type": "execute_result",
          "data": {
            "text/html": [
              "<div>\n",
              "<style scoped>\n",
              "    .dataframe tbody tr th:only-of-type {\n",
              "        vertical-align: middle;\n",
              "    }\n",
              "\n",
              "    .dataframe tbody tr th {\n",
              "        vertical-align: top;\n",
              "    }\n",
              "\n",
              "    .dataframe thead th {\n",
              "        text-align: right;\n",
              "    }\n",
              "</style>\n",
              "<table border=\"1\" class=\"dataframe\">\n",
              "  <thead>\n",
              "    <tr style=\"text-align: right;\">\n",
              "      <th></th>\n",
              "      <th>Season</th>\n",
              "      <th>Age</th>\n",
              "      <th>Child_disease</th>\n",
              "      <th>Accident/trauma</th>\n",
              "      <th>Surigical_intervention</th>\n",
              "      <th>H_fever</th>\n",
              "      <th>Alchohol</th>\n",
              "      <th>Smoking</th>\n",
              "      <th>Hours spent sitting</th>\n",
              "      <th>Output</th>\n",
              "    </tr>\n",
              "  </thead>\n",
              "  <tbody>\n",
              "    <tr>\n",
              "      <th>95</th>\n",
              "      <td>-1.0</td>\n",
              "      <td>0.67</td>\n",
              "      <td>1</td>\n",
              "      <td>0</td>\n",
              "      <td>0</td>\n",
              "      <td>0</td>\n",
              "      <td>1.0</td>\n",
              "      <td>-1</td>\n",
              "      <td>0.50</td>\n",
              "      <td>N</td>\n",
              "    </tr>\n",
              "    <tr>\n",
              "      <th>96</th>\n",
              "      <td>-1.0</td>\n",
              "      <td>0.61</td>\n",
              "      <td>1</td>\n",
              "      <td>0</td>\n",
              "      <td>0</td>\n",
              "      <td>0</td>\n",
              "      <td>0.8</td>\n",
              "      <td>0</td>\n",
              "      <td>0.50</td>\n",
              "      <td>N</td>\n",
              "    </tr>\n",
              "    <tr>\n",
              "      <th>97</th>\n",
              "      <td>-1.0</td>\n",
              "      <td>0.67</td>\n",
              "      <td>1</td>\n",
              "      <td>1</td>\n",
              "      <td>1</td>\n",
              "      <td>0</td>\n",
              "      <td>1.0</td>\n",
              "      <td>-1</td>\n",
              "      <td>0.31</td>\n",
              "      <td>N</td>\n",
              "    </tr>\n",
              "    <tr>\n",
              "      <th>98</th>\n",
              "      <td>-1.0</td>\n",
              "      <td>0.64</td>\n",
              "      <td>1</td>\n",
              "      <td>0</td>\n",
              "      <td>1</td>\n",
              "      <td>0</td>\n",
              "      <td>1.0</td>\n",
              "      <td>0</td>\n",
              "      <td>0.19</td>\n",
              "      <td>N</td>\n",
              "    </tr>\n",
              "    <tr>\n",
              "      <th>99</th>\n",
              "      <td>-1.0</td>\n",
              "      <td>0.69</td>\n",
              "      <td>0</td>\n",
              "      <td>1</td>\n",
              "      <td>1</td>\n",
              "      <td>0</td>\n",
              "      <td>0.6</td>\n",
              "      <td>-1</td>\n",
              "      <td>0.19</td>\n",
              "      <td>N</td>\n",
              "    </tr>\n",
              "  </tbody>\n",
              "</table>\n",
              "</div>"
            ],
            "text/plain": [
              "    Season   Age  Child_disease  ...  Smoking  Hours spent sitting  Output\n",
              "95    -1.0  0.67              1  ...       -1                 0.50       N\n",
              "96    -1.0  0.61              1  ...        0                 0.50       N\n",
              "97    -1.0  0.67              1  ...       -1                 0.31       N\n",
              "98    -1.0  0.64              1  ...        0                 0.19       N\n",
              "99    -1.0  0.69              0  ...       -1                 0.19       N\n",
              "\n",
              "[5 rows x 10 columns]"
            ]
          },
          "metadata": {},
          "execution_count": 4
        }
      ]
    },
    {
      "cell_type": "code",
      "metadata": {
        "colab": {
          "base_uri": "https://localhost:8080/",
          "height": 300
        },
        "id": "EBJWbaePomS9",
        "outputId": "5f1682e8-0df9-4442-dfd2-79e2c7ffcd0d"
      },
      "source": [
        "#data is already normalized\n",
        "#Checking for outliers\n",
        "df.describe()"
      ],
      "execution_count": 5,
      "outputs": [
        {
          "output_type": "execute_result",
          "data": {
            "text/html": [
              "<div>\n",
              "<style scoped>\n",
              "    .dataframe tbody tr th:only-of-type {\n",
              "        vertical-align: middle;\n",
              "    }\n",
              "\n",
              "    .dataframe tbody tr th {\n",
              "        vertical-align: top;\n",
              "    }\n",
              "\n",
              "    .dataframe thead th {\n",
              "        text-align: right;\n",
              "    }\n",
              "</style>\n",
              "<table border=\"1\" class=\"dataframe\">\n",
              "  <thead>\n",
              "    <tr style=\"text-align: right;\">\n",
              "      <th></th>\n",
              "      <th>Season</th>\n",
              "      <th>Age</th>\n",
              "      <th>Child_disease</th>\n",
              "      <th>Accident/trauma</th>\n",
              "      <th>Surigical_intervention</th>\n",
              "      <th>H_fever</th>\n",
              "      <th>Alchohol</th>\n",
              "      <th>Smoking</th>\n",
              "      <th>Hours spent sitting</th>\n",
              "    </tr>\n",
              "  </thead>\n",
              "  <tbody>\n",
              "    <tr>\n",
              "      <th>count</th>\n",
              "      <td>100.000000</td>\n",
              "      <td>100.000000</td>\n",
              "      <td>100.000000</td>\n",
              "      <td>100.000000</td>\n",
              "      <td>100.000000</td>\n",
              "      <td>100.000000</td>\n",
              "      <td>100.000000</td>\n",
              "      <td>100.000000</td>\n",
              "      <td>100.000000</td>\n",
              "    </tr>\n",
              "    <tr>\n",
              "      <th>mean</th>\n",
              "      <td>-0.078900</td>\n",
              "      <td>0.669000</td>\n",
              "      <td>0.870000</td>\n",
              "      <td>0.440000</td>\n",
              "      <td>0.510000</td>\n",
              "      <td>0.190000</td>\n",
              "      <td>0.832000</td>\n",
              "      <td>-0.350000</td>\n",
              "      <td>0.406800</td>\n",
              "    </tr>\n",
              "    <tr>\n",
              "      <th>std</th>\n",
              "      <td>0.796725</td>\n",
              "      <td>0.121319</td>\n",
              "      <td>0.337998</td>\n",
              "      <td>0.498888</td>\n",
              "      <td>0.502418</td>\n",
              "      <td>0.580752</td>\n",
              "      <td>0.167501</td>\n",
              "      <td>0.808728</td>\n",
              "      <td>0.186395</td>\n",
              "    </tr>\n",
              "    <tr>\n",
              "      <th>min</th>\n",
              "      <td>-1.000000</td>\n",
              "      <td>0.500000</td>\n",
              "      <td>0.000000</td>\n",
              "      <td>0.000000</td>\n",
              "      <td>0.000000</td>\n",
              "      <td>-1.000000</td>\n",
              "      <td>0.200000</td>\n",
              "      <td>-1.000000</td>\n",
              "      <td>0.060000</td>\n",
              "    </tr>\n",
              "    <tr>\n",
              "      <th>25%</th>\n",
              "      <td>-1.000000</td>\n",
              "      <td>0.560000</td>\n",
              "      <td>1.000000</td>\n",
              "      <td>0.000000</td>\n",
              "      <td>0.000000</td>\n",
              "      <td>0.000000</td>\n",
              "      <td>0.800000</td>\n",
              "      <td>-1.000000</td>\n",
              "      <td>0.250000</td>\n",
              "    </tr>\n",
              "    <tr>\n",
              "      <th>50%</th>\n",
              "      <td>-0.330000</td>\n",
              "      <td>0.670000</td>\n",
              "      <td>1.000000</td>\n",
              "      <td>0.000000</td>\n",
              "      <td>1.000000</td>\n",
              "      <td>0.000000</td>\n",
              "      <td>0.800000</td>\n",
              "      <td>-1.000000</td>\n",
              "      <td>0.380000</td>\n",
              "    </tr>\n",
              "    <tr>\n",
              "      <th>75%</th>\n",
              "      <td>1.000000</td>\n",
              "      <td>0.750000</td>\n",
              "      <td>1.000000</td>\n",
              "      <td>1.000000</td>\n",
              "      <td>1.000000</td>\n",
              "      <td>1.000000</td>\n",
              "      <td>1.000000</td>\n",
              "      <td>0.000000</td>\n",
              "      <td>0.500000</td>\n",
              "    </tr>\n",
              "    <tr>\n",
              "      <th>max</th>\n",
              "      <td>1.000000</td>\n",
              "      <td>1.000000</td>\n",
              "      <td>1.000000</td>\n",
              "      <td>1.000000</td>\n",
              "      <td>1.000000</td>\n",
              "      <td>1.000000</td>\n",
              "      <td>1.000000</td>\n",
              "      <td>1.000000</td>\n",
              "      <td>1.000000</td>\n",
              "    </tr>\n",
              "  </tbody>\n",
              "</table>\n",
              "</div>"
            ],
            "text/plain": [
              "           Season         Age  ...     Smoking  Hours spent sitting\n",
              "count  100.000000  100.000000  ...  100.000000           100.000000\n",
              "mean    -0.078900    0.669000  ...   -0.350000             0.406800\n",
              "std      0.796725    0.121319  ...    0.808728             0.186395\n",
              "min     -1.000000    0.500000  ...   -1.000000             0.060000\n",
              "25%     -1.000000    0.560000  ...   -1.000000             0.250000\n",
              "50%     -0.330000    0.670000  ...   -1.000000             0.380000\n",
              "75%      1.000000    0.750000  ...    0.000000             0.500000\n",
              "max      1.000000    1.000000  ...    1.000000             1.000000\n",
              "\n",
              "[8 rows x 9 columns]"
            ]
          },
          "metadata": {},
          "execution_count": 5
        }
      ]
    },
    {
      "cell_type": "markdown",
      "metadata": {
        "id": "Sufzc8ySywVv"
      },
      "source": [
        "1. The mean value varies frequently from the median value of each column which is represented by 50%(50th percentile) in index column\n",
        "2. There are not any notable differences between the 75th percentile and max values\n",
        "\n",
        "Hence, this suggests that there are NO outliers."
      ]
    },
    {
      "cell_type": "code",
      "metadata": {
        "colab": {
          "base_uri": "https://localhost:8080/"
        },
        "id": "2iAsNCgavb0G",
        "outputId": "00315865-4a69-4a51-8a68-b7e9394979ca"
      },
      "source": [
        "df.nunique()"
      ],
      "execution_count": 6,
      "outputs": [
        {
          "output_type": "execute_result",
          "data": {
            "text/plain": [
              "Season                     4\n",
              "Age                       18\n",
              "Child_disease              2\n",
              "Accident/trauma            2\n",
              "Surigical_intervention     2\n",
              "H_fever                    3\n",
              "Alchohol                   5\n",
              "Smoking                    3\n",
              "Hours spent sitting       14\n",
              "Output                     2\n",
              "dtype: int64"
            ]
          },
          "metadata": {},
          "execution_count": 6
        }
      ]
    },
    {
      "cell_type": "code",
      "metadata": {
        "colab": {
          "base_uri": "https://localhost:8080/",
          "height": 387
        },
        "id": "yKIgRWopvtoy",
        "outputId": "06601140-23ba-4e45-ac99-4639e416fd66"
      },
      "source": [
        "import seaborn as sns\n",
        "import matplotlib.pyplot as plt\n",
        "%matplotlib inline\n",
        "\n",
        "# calculate the correlation matrix\n",
        "corr = df.corr()\n",
        "\n",
        "# plot the heatmap\n",
        "sns.heatmap(corr, \n",
        "        xticklabels=corr.columns,\n",
        "        yticklabels=corr.columns,annot=True)"
      ],
      "execution_count": 7,
      "outputs": [
        {
          "output_type": "execute_result",
          "data": {
            "text/plain": [
              "<matplotlib.axes._subplots.AxesSubplot at 0x7fad32a4aa50>"
            ]
          },
          "metadata": {},
          "execution_count": 7
        },
        {
          "output_type": "display_data",
          "data": {
            "image/png": "[encoded data removed]",
            "text/plain": [
              "<Figure size 432x288 with 2 Axes>"
            ]
          },
          "metadata": {
            "needs_background": "light"
          }
        }
      ]
    },
    {
      "cell_type": "code",
      "metadata": {
        "colab": {
          "base_uri": "https://localhost:8080/",
          "height": 653
        },
        "id": "q3KFqtnk0Uuc",
        "outputId": "83a874e9-8161-40a8-f674-c8d14a7a4b02"
      },
      "source": [
        "mask = np.triu(np.ones_like(corr, dtype=bool))\n",
        "\n",
        "# Set up the matplotlib figure\n",
        "f, ax = plt.subplots(figsize=(11, 9))\n",
        "\n",
        "# Generate a custom diverging colormap\n",
        "cmap = sns.diverging_palette(230, 20, as_cmap=True)\n",
        "\n",
        "# Draw the heatmap with the mask and correct aspect ratio\n",
        "sns.heatmap(corr, mask=mask, cmap=cmap, vmax=.3, center=0,\n",
        "            square=True, linewidths=.5, cbar_kws={\"shrink\": .5},annot=True)"
      ],
      "execution_count": 8,
      "outputs": [
        {
          "output_type": "execute_result",
          "data": {
            "text/plain": [
              "<matplotlib.axes._subplots.AxesSubplot at 0x7fad31c240d0>"
            ]
          },
          "metadata": {},
          "execution_count": 8
        },
        {
          "output_type": "display_data",
          "data": {
            "image/png": "[encoded data removed]",
            "text/plain": [
              "<Figure size 792x648 with 2 Axes>"
            ]
          },
          "metadata": {
            "needs_background": "light"
          }
        }
      ]
    },
    {
      "cell_type": "markdown",
      "metadata": {
        "id": "7YI7kHrHR6ge"
      },
      "source": [
        "No strong correlation seen as of now."
      ]
    },
    {
      "cell_type": "code",
      "metadata": {
        "id": "GJU8jBwnR5m-",
        "colab": {
          "base_uri": "https://localhost:8080/",
          "height": 279
        },
        "outputId": "0be0f780-94f4-49be-9bbb-875b9b9be259"
      },
      "source": [
        "ax = sns.boxplot(x=df[\"Age\"])"
      ],
      "execution_count": 9,
      "outputs": [
        {
          "output_type": "display_data",
          "data": {
            "image/png": "[encoded data removed]",
            "text/plain": [
              "<Figure size 432x288 with 1 Axes>"
            ]
          },
          "metadata": {
            "needs_background": "light"
          }
        }
      ]
    },
    {
      "cell_type": "code",
      "metadata": {
        "colab": {
          "base_uri": "https://localhost:8080/",
          "height": 279
        },
        "id": "6q_lzUzEqVAL",
        "outputId": "a8cfce34-1902-4f34-f36a-4f56d8ec35fc"
      },
      "source": [
        "ax = sns.boxplot(x=df[\"Hours spent sitting\"])"
      ],
      "execution_count": 10,
      "outputs": [
        {
          "output_type": "display_data",
          "data": {
            "image/png": "[encoded data removed]",
            "text/plain": [
              "<Figure size 432x288 with 1 Axes>"
            ]
          },
          "metadata": {
            "needs_background": "light"
          }
        }
      ]
    },
    {
      "cell_type": "markdown",
      "metadata": {
        "id": "3Amedh1Av-rA"
      },
      "source": [
        "We see two outliers, we will remove them."
      ]
    },
    {
      "cell_type": "markdown",
      "metadata": {
        "id": "bCLNJ2KwxilC"
      },
      "source": [
        "## IQR Treatment"
      ]
    },
    {
      "cell_type": "code",
      "metadata": {
        "colab": {
          "base_uri": "https://localhost:8080/"
        },
        "id": "sPUcjzGNvudj",
        "outputId": "2b84bb6b-155a-4760-8313-9307a969c677"
      },
      "source": [
        "upper_lim=df['Hours spent sitting'].quantile(0.90)\n",
        "print(upper_lim)"
      ],
      "execution_count": 11,
      "outputs": [
        {
          "output_type": "stream",
          "name": "stdout",
          "text": [
            "0.63\n"
          ]
        }
      ]
    },
    {
      "cell_type": "code",
      "metadata": {
        "id": "auV7Xjmbzgix"
      },
      "source": [
        "df.loc[df['Hours spent sitting']>upper_lim,\"Hours spent sitting\"]=upper_lim"
      ],
      "execution_count": 12,
      "outputs": []
    },
    {
      "cell_type": "code",
      "metadata": {
        "colab": {
          "base_uri": "https://localhost:8080/",
          "height": 279
        },
        "id": "QNeGg8y8zLL6",
        "outputId": "4f1132e3-da0c-4201-80c6-c6c548c8df2c"
      },
      "source": [
        "ax = sns.boxplot(x=df[\"Hours spent sitting\"]) #Outliers removed"
      ],
      "execution_count": 13,
      "outputs": [
        {
          "output_type": "display_data",
          "data": {
            "image/png": "[encoded data removed]",
            "text/plain": [
              "<Figure size 432x288 with 1 Axes>"
            ]
          },
          "metadata": {
            "needs_background": "light"
          }
        }
      ]
    },
    {
      "cell_type": "code",
      "metadata": {
        "colab": {
          "base_uri": "https://localhost:8080/",
          "height": 279
        },
        "id": "e_XGcNg3zhxZ",
        "outputId": "3a110e70-d0b2-415d-fc75-5210ae29450a"
      },
      "source": [
        "ax = sns.boxplot(x=df[\"Alchohol\"])"
      ],
      "execution_count": 14,
      "outputs": [
        {
          "output_type": "display_data",
          "data": {
            "image/png": "[encoded data removed]",
            "text/plain": [
              "<Figure size 432x288 with 1 Axes>"
            ]
          },
          "metadata": {
            "needs_background": "light"
          }
        }
      ]
    },
    {
      "cell_type": "code",
      "metadata": {
        "colab": {
          "base_uri": "https://localhost:8080/"
        },
        "id": "7wuxkyOo0DxS",
        "outputId": "bcde868c-c24f-4427-8a33-ee5874c766ec"
      },
      "source": [
        "lower_lim=df[\"Alchohol\"].quantile(0.4)\n",
        "print(lower_lim)"
      ],
      "execution_count": 15,
      "outputs": [
        {
          "output_type": "stream",
          "name": "stdout",
          "text": [
            "0.8\n"
          ]
        }
      ]
    },
    {
      "cell_type": "code",
      "metadata": {
        "colab": {
          "base_uri": "https://localhost:8080/",
          "height": 279
        },
        "id": "qYE_D58n0fkB",
        "outputId": "d93fc1bc-0710-4620-fa9a-e856f2481191"
      },
      "source": [
        "df.loc[df[\"Alchohol\"]<lower_lim, \"Alchohol\"]=lower_lim\n",
        "ax = sns.boxplot(x=df[\"Alchohol\"])"
      ],
      "execution_count": 16,
      "outputs": [
        {
          "output_type": "display_data",
          "data": {
            "image/png": "[encoded data removed]",
            "text/plain": [
              "<Figure size 432x288 with 1 Axes>"
            ]
          },
          "metadata": {
            "needs_background": "light"
          }
        }
      ]
    },
    {
      "cell_type": "markdown",
      "metadata": {
        "id": "OA0XKYmpetlU"
      },
      "source": [
        "Label Encoding the Output column"
      ]
    },
    {
      "cell_type": "code",
      "metadata": {
        "colab": {
          "base_uri": "https://localhost:8080/",
          "height": 206
        },
        "id": "P-Y038cLetQc",
        "outputId": "3c8254a5-83a7-4506-8576-0e28099d1f49"
      },
      "source": [
        "from sklearn.preprocessing import LabelEncoder\n",
        "le=LabelEncoder()\n",
        "df[\"Output\"]=le.fit_transform(df[\"Output\"])\n",
        "df.head()"
      ],
      "execution_count": 17,
      "outputs": [
        {
          "output_type": "execute_result",
          "data": {
            "text/html": [
              "<div>\n",
              "<style scoped>\n",
              "    .dataframe tbody tr th:only-of-type {\n",
              "        vertical-align: middle;\n",
              "    }\n",
              "\n",
              "    .dataframe tbody tr th {\n",
              "        vertical-align: top;\n",
              "    }\n",
              "\n",
              "    .dataframe thead th {\n",
              "        text-align: right;\n",
              "    }\n",
              "</style>\n",
              "<table border=\"1\" class=\"dataframe\">\n",
              "  <thead>\n",
              "    <tr style=\"text-align: right;\">\n",
              "      <th></th>\n",
              "      <th>Season</th>\n",
              "      <th>Age</th>\n",
              "      <th>Child_disease</th>\n",
              "      <th>Accident/trauma</th>\n",
              "      <th>Surigical_intervention</th>\n",
              "      <th>H_fever</th>\n",
              "      <th>Alchohol</th>\n",
              "      <th>Smoking</th>\n",
              "      <th>Hours spent sitting</th>\n",
              "      <th>Output</th>\n",
              "    </tr>\n",
              "  </thead>\n",
              "  <tbody>\n",
              "    <tr>\n",
              "      <th>0</th>\n",
              "      <td>-0.33</td>\n",
              "      <td>0.69</td>\n",
              "      <td>0</td>\n",
              "      <td>1</td>\n",
              "      <td>1</td>\n",
              "      <td>0</td>\n",
              "      <td>0.8</td>\n",
              "      <td>0</td>\n",
              "      <td>0.63</td>\n",
              "      <td>0</td>\n",
              "    </tr>\n",
              "    <tr>\n",
              "      <th>1</th>\n",
              "      <td>-0.33</td>\n",
              "      <td>0.94</td>\n",
              "      <td>1</td>\n",
              "      <td>0</td>\n",
              "      <td>1</td>\n",
              "      <td>0</td>\n",
              "      <td>0.8</td>\n",
              "      <td>1</td>\n",
              "      <td>0.31</td>\n",
              "      <td>1</td>\n",
              "    </tr>\n",
              "    <tr>\n",
              "      <th>2</th>\n",
              "      <td>-0.33</td>\n",
              "      <td>0.50</td>\n",
              "      <td>1</td>\n",
              "      <td>0</td>\n",
              "      <td>0</td>\n",
              "      <td>0</td>\n",
              "      <td>1.0</td>\n",
              "      <td>-1</td>\n",
              "      <td>0.50</td>\n",
              "      <td>0</td>\n",
              "    </tr>\n",
              "    <tr>\n",
              "      <th>3</th>\n",
              "      <td>-0.33</td>\n",
              "      <td>0.75</td>\n",
              "      <td>0</td>\n",
              "      <td>1</td>\n",
              "      <td>1</td>\n",
              "      <td>0</td>\n",
              "      <td>1.0</td>\n",
              "      <td>-1</td>\n",
              "      <td>0.38</td>\n",
              "      <td>0</td>\n",
              "    </tr>\n",
              "    <tr>\n",
              "      <th>4</th>\n",
              "      <td>-0.33</td>\n",
              "      <td>0.67</td>\n",
              "      <td>1</td>\n",
              "      <td>1</td>\n",
              "      <td>0</td>\n",
              "      <td>0</td>\n",
              "      <td>0.8</td>\n",
              "      <td>-1</td>\n",
              "      <td>0.50</td>\n",
              "      <td>1</td>\n",
              "    </tr>\n",
              "  </tbody>\n",
              "</table>\n",
              "</div>"
            ],
            "text/plain": [
              "   Season   Age  Child_disease  ...  Smoking  Hours spent sitting  Output\n",
              "0   -0.33  0.69              0  ...        0                 0.63       0\n",
              "1   -0.33  0.94              1  ...        1                 0.31       1\n",
              "2   -0.33  0.50              1  ...       -1                 0.50       0\n",
              "3   -0.33  0.75              0  ...       -1                 0.38       0\n",
              "4   -0.33  0.67              1  ...       -1                 0.50       1\n",
              "\n",
              "[5 rows x 10 columns]"
            ]
          },
          "metadata": {},
          "execution_count": 17
        }
      ]
    },
    {
      "cell_type": "markdown",
      "metadata": {
        "id": "PN4Di_JFjpBI"
      },
      "source": [
        "Creating the baseline model"
      ]
    },
    {
      "cell_type": "code",
      "metadata": {
        "id": "FaLnaSnCmJRE"
      },
      "source": [
        "from sklearn.model_selection import train_test_split\n",
        "from sklearn.linear_model import LogisticRegression\n",
        "reg=LogisticRegression()"
      ],
      "execution_count": 49,
      "outputs": []
    },
    {
      "cell_type": "code",
      "metadata": {
        "id": "poM0G5gm_smj",
        "colab": {
          "base_uri": "https://localhost:8080/"
        },
        "outputId": "a3761778-58f9-4272-c861-7a8de3113ba4"
      },
      "source": [
        "X=df.drop([\"Output\"],axis=1)\n",
        "y=df[\"Output\"]\n",
        "test_sizes=[0.33,0.3,0.25,0.2,0.15,0.1]\n",
        "acc={}\n",
        "for i in test_sizes:\n",
        "  X_train,X_test,y_train,y_test=train_test_split(X,y, test_size=i,random_state=21)\n",
        "  reg.fit(X_train,y_train)\n",
        "  print(f\"Training complete for test size:{i}.\",end=\" \")\n",
        "  accuracy = reg.score(X_test,y_test)\n",
        "  print(\"Accuracy:\",accuracy*100,'%')\n",
        "  y_pred = reg.predict(X_test)\n",
        "  print('Coefficients: \\n', reg.coef_)\n",
        "  # The mean squared error\n",
        "  print(\"Mean squared error: %.2f\" % np.mean((reg.predict(X_test) - y_test) ** 2))\n",
        "  # Explained variance score: 1 is perfect prediction\n",
        "  print('Variance score: %.2f' % reg.score(X_test, y_test))\n",
        "  acc[i]=accuracy"
      ],
      "execution_count": 50,
      "outputs": [
        {
          "output_type": "stream",
          "name": "stdout",
          "text": [
            "Training complete for test size:0.33. Accuracy: 78.78787878787878 %\n",
            "Coefficients: \n",
            " [[-0.16598321  0.0255266  -0.12087223 -0.12033421 -0.20013131 -0.57962832\n",
            "  -0.1815713   0.29442633  0.05975693]]\n",
            "Mean squared error: 0.21\n",
            "Variance score: 0.79\n",
            "Training complete for test size:0.3. Accuracy: 76.66666666666667 %\n",
            "Coefficients: \n",
            " [[-0.16320866  0.00840655 -0.14760137 -0.10074671 -0.23254829 -0.561881\n",
            "  -0.19792754  0.25281038  0.08105905]]\n",
            "Mean squared error: 0.23\n",
            "Variance score: 0.77\n",
            "Training complete for test size:0.25. Accuracy: 76.0 %\n",
            "Coefficients: \n",
            " [[ 0.0754467   0.03349475 -0.49537155 -0.25127756 -0.03747728 -0.576927\n",
            "  -0.25462342  0.31989954  0.14564582]]\n",
            "Mean squared error: 0.24\n",
            "Variance score: 0.76\n",
            "Training complete for test size:0.2. Accuracy: 85.0 %\n",
            "Coefficients: \n",
            " [[ 0.30229652  0.2509755  -0.13852476 -0.69629786  0.13616403 -0.72243272\n",
            "  -0.4509494   0.55760512  0.05036578]]\n",
            "Mean squared error: 0.15\n",
            "Variance score: 0.85\n",
            "Training complete for test size:0.15. Accuracy: 86.66666666666667 %\n",
            "Coefficients: \n",
            " [[ 0.5279813   0.35584412 -0.05432392 -0.39494315 -0.071959   -0.41775085\n",
            "  -0.52687773  0.33439413  0.03810159]]\n",
            "Mean squared error: 0.13\n",
            "Variance score: 0.87\n",
            "Training complete for test size:0.1. Accuracy: 80.0 %\n",
            "Coefficients: \n",
            " [[ 0.4777307   0.34287995 -0.10380281 -0.48237733  0.04909069 -0.30063589\n",
            "  -0.51369926  0.37645922  0.06257574]]\n",
            "Mean squared error: 0.20\n",
            "Variance score: 0.80\n"
          ]
        }
      ]
    },
    {
      "cell_type": "code",
      "metadata": {
        "colab": {
          "base_uri": "https://localhost:8080/"
        },
        "id": "k_TGXM5Tklq0",
        "outputId": "6a3b53a2-34ce-4605-d57a-8728267d6c1f"
      },
      "source": [
        "acc"
      ],
      "execution_count": 51,
      "outputs": [
        {
          "output_type": "execute_result",
          "data": {
            "text/plain": [
              "{0.1: 0.8,\n",
              " 0.15: 0.8666666666666667,\n",
              " 0.2: 0.85,\n",
              " 0.25: 0.76,\n",
              " 0.3: 0.7666666666666667,\n",
              " 0.33: 0.7878787878787878}"
            ]
          },
          "metadata": {},
          "execution_count": 51
        }
      ]
    },
    {
      "cell_type": "code",
      "metadata": {
        "colab": {
          "base_uri": "https://localhost:8080/"
        },
        "id": "rYseYYeDj_wM",
        "outputId": "e2c48c62-d1b9-4d76-e8dc-92e585f85df8"
      },
      "source": [
        "max_key = max(acc, key=acc.get)\n",
        "print(\"Highest accuracy is of test size:\",max_key)"
      ],
      "execution_count": 52,
      "outputs": [
        {
          "output_type": "stream",
          "name": "stdout",
          "text": [
            "Highest accuracy is of test size: 0.15\n"
          ]
        }
      ]
    }
  ]
}